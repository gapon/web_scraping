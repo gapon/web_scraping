{
 "cells": [
  {
   "cell_type": "code",
   "execution_count": 2,
   "metadata": {
    "collapsed": true
   },
   "outputs": [],
   "source": [
    "# http://blog.kaggle.com/2017/01/31/scraping-for-craft-beers-a-dataset-creation-tutorial/\n",
    "\n",
    "from urllib.request import urlopen\n",
    "from bs4 import BeautifulSoup\n",
    "import pandas as pd\n",
    "import re"
   ]
  },
  {
   "cell_type": "code",
   "execution_count": 39,
   "metadata": {
    "collapsed": true
   },
   "outputs": [],
   "source": [
    "def strip_item(item_str):\n",
    "    item_str = item_str.replace('\\n', '')\n",
    "    item_str = item_str.strip()\n",
    "    return item_str"
   ]
  },
  {
   "cell_type": "code",
   "execution_count": 44,
   "metadata": {
    "collapsed": true
   },
   "outputs": [],
   "source": [
    "def get_all_items(html_soup):\n",
    "    items = []\n",
    "    all_html_items = html_soup.find_all('div', class_ = 'item')\n",
    "    for html_item in all_html_items:\n",
    "        #item_id = html_item.find_all('div', class_ = 'item', attrs={'id': True})\n",
    "        item_id = html_item['id']\n",
    "        item_title = html_item.find('a', class_ = 'item-description-title-link').text\n",
    "        item_price = html_item.find('div', class_ = 'about').text\n",
    "        item_entry = {\n",
    "            'id': strip_item(item_id),\n",
    "            'title': strip_item(item_title),\n",
    "            'price': strip_item(item_price)   \n",
    "        }\n",
    "        items.append(item_entry)\n",
    "    return items"
   ]
  },
  {
   "cell_type": "code",
   "execution_count": 45,
   "metadata": {},
   "outputs": [],
   "source": [
    "html = urlopen(\"https://www.avito.ru/moskva?p=2&s=101&q=%D0%B4%D0%B5%D1%82%D1%81%D0%BA%D0%B8%D0%B5+%D0%B8%D0%B3%D1%80%D1%83%D1%88%D0%BA%D0%B8\")\n",
    "html_soup = BeautifulSoup(html, 'html.parser')\n",
    "item_list = get_all_items(html_soup)"
   ]
  },
  {
   "cell_type": "code",
   "execution_count": 51,
   "metadata": {},
   "outputs": [
    {
     "data": {
      "text/html": [
       "<div>\n",
       "<style>\n",
       "    .dataframe thead tr:only-child th {\n",
       "        text-align: right;\n",
       "    }\n",
       "\n",
       "    .dataframe thead th {\n",
       "        text-align: left;\n",
       "    }\n",
       "\n",
       "    .dataframe tbody tr th {\n",
       "        vertical-align: top;\n",
       "    }\n",
       "</style>\n",
       "<table border=\"1\" class=\"dataframe\">\n",
       "  <thead>\n",
       "    <tr style=\"text-align: right;\">\n",
       "      <th></th>\n",
       "      <th>id</th>\n",
       "      <th>price</th>\n",
       "      <th>title</th>\n",
       "    </tr>\n",
       "  </thead>\n",
       "  <tbody>\n",
       "    <tr>\n",
       "      <th>0</th>\n",
       "      <td>i1113816559</td>\n",
       "      <td>Цена не указана</td>\n",
       "      <td>Синтезатор для ребенка + доставка бесплатно</td>\n",
       "    </tr>\n",
       "    <tr>\n",
       "      <th>1</th>\n",
       "      <td>i1159914278</td>\n",
       "      <td>200 000 руб.</td>\n",
       "      <td>Торговое оборудование</td>\n",
       "    </tr>\n",
       "    <tr>\n",
       "      <th>2</th>\n",
       "      <td>i1166058491</td>\n",
       "      <td>11 000 руб.</td>\n",
       "      <td>Люлька и матрасик</td>\n",
       "    </tr>\n",
       "    <tr>\n",
       "      <th>3</th>\n",
       "      <td>i1068109200</td>\n",
       "      <td>700 руб.</td>\n",
       "      <td>Детские игрушки</td>\n",
       "    </tr>\n",
       "    <tr>\n",
       "      <th>4</th>\n",
       "      <td>i928554637</td>\n",
       "      <td>1 000 руб.</td>\n",
       "      <td>Детские игрушки пакетом + игровой коврик</td>\n",
       "    </tr>\n",
       "    <tr>\n",
       "      <th>5</th>\n",
       "      <td>i1130994484</td>\n",
       "      <td>150 руб.</td>\n",
       "      <td>Детские игрушки и книжки</td>\n",
       "    </tr>\n",
       "    <tr>\n",
       "      <th>6</th>\n",
       "      <td>i895038419</td>\n",
       "      <td>900 руб.</td>\n",
       "      <td>Детские игрушки, фигурки коллекции. котята и тд</td>\n",
       "    </tr>\n",
       "    <tr>\n",
       "      <th>7</th>\n",
       "      <td>i894042023</td>\n",
       "      <td>800 руб.</td>\n",
       "      <td>Детская игрушка качалка машинка</td>\n",
       "    </tr>\n",
       "    <tr>\n",
       "      <th>8</th>\n",
       "      <td>i1045450467</td>\n",
       "      <td>200 руб.</td>\n",
       "      <td>Детская игрушка</td>\n",
       "    </tr>\n",
       "    <tr>\n",
       "      <th>9</th>\n",
       "      <td>i835379895</td>\n",
       "      <td>100 руб.</td>\n",
       "      <td>Детские игрушки</td>\n",
       "    </tr>\n",
       "  </tbody>\n",
       "</table>\n",
       "</div>"
      ],
      "text/plain": [
       "            id            price  \\\n",
       "0  i1113816559  Цена не указана   \n",
       "1  i1159914278     200 000 руб.   \n",
       "2  i1166058491      11 000 руб.   \n",
       "3  i1068109200         700 руб.   \n",
       "4   i928554637       1 000 руб.   \n",
       "5  i1130994484         150 руб.   \n",
       "6   i895038419         900 руб.   \n",
       "7   i894042023         800 руб.   \n",
       "8  i1045450467         200 руб.   \n",
       "9   i835379895         100 руб.   \n",
       "\n",
       "                                             title  \n",
       "0      Синтезатор для ребенка + доставка бесплатно  \n",
       "1                            Торговое оборудование  \n",
       "2                                Люлька и матрасик  \n",
       "3                                  Детские игрушки  \n",
       "4         Детские игрушки пакетом + игровой коврик  \n",
       "5                         Детские игрушки и книжки  \n",
       "6  Детские игрушки, фигурки коллекции. котята и тд  \n",
       "7                  Детская игрушка качалка машинка  \n",
       "8                                  Детская игрушка  \n",
       "9                                  Детские игрушки  "
      ]
     },
     "execution_count": 51,
     "metadata": {},
     "output_type": "execute_result"
    }
   ],
   "source": [
    "df = pd.DataFrame(item_list)\n",
    "df.head(10)"
   ]
  },
  {
   "cell_type": "code",
   "execution_count": 34,
   "metadata": {
    "collapsed": true
   },
   "outputs": [],
   "source": []
  },
  {
   "cell_type": "code",
   "execution_count": null,
   "metadata": {
    "collapsed": true
   },
   "outputs": [],
   "source": []
  }
 ],
 "metadata": {
  "kernelspec": {
   "display_name": "Python 3",
   "language": "python",
   "name": "python3"
  },
  "language_info": {
   "codemirror_mode": {
    "name": "ipython",
    "version": 3
   },
   "file_extension": ".py",
   "mimetype": "text/x-python",
   "name": "python",
   "nbconvert_exporter": "python",
   "pygments_lexer": "ipython3",
   "version": "3.5.3"
  }
 },
 "nbformat": 4,
 "nbformat_minor": 2
}
